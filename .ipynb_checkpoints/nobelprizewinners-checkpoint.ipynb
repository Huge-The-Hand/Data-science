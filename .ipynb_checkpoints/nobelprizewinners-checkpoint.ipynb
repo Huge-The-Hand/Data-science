{
 "cells": [
  {
   "cell_type": "markdown",
   "metadata": {
    "colab_type": "text",
    "id": "3oj2kkJeLgXt"
   },
   "source": [
    "# Nobel prizes"
   ]
  },
  {
   "cell_type": "markdown",
   "metadata": {
    "colab_type": "text",
    "id": "JQ2z3hFyLgXu"
   },
   "source": [
    "## 1. Loading the data\n",
    "<p><img style=\"float: right;margin:5px 20px 5px 1px; max-width:250px\" src=\"https://s3.amazonaws.com/assets.datacamp.com/production/project_441/img/Nobel_Prize.png\"></p>\n",
    "<p>The Nobel Prize is perhaps the world's most well known scientific award. Except for the honor, prestige and substantial prize money the recipient also gets a gold medal showing Alfred Nobel (1833 - 1896) who established the prize. Every year it's given to scientists and scholars in the categories chemistry, literature, physics, physiology or medicine, economics, and peace. The first Nobel Prize was handed out in 1901, and at that time the Prize was very Eurocentric and male-focused, but nowadays it's not biased in any way whatsoever. Surely. Right?</p>\n",
    "<p>Well, we're going to find out! The Nobel Foundation has made a dataset available of all prize winners from the start of the prize, in 1901, to 2016. Let's load it in and take a look.</p>"
   ]
  },
  {
   "cell_type": "code",
   "execution_count": 1,
   "metadata": {
    "colab": {},
    "colab_type": "code",
    "id": "6n_NXUb6LgXv"
   },
   "outputs": [
    {
     "name": "stdout",
     "output_type": "stream",
     "text": [
      "--------\n",
      "<class 'pandas.core.frame.DataFrame'>\n",
      "RangeIndex: 911 entries, 0 to 910\n",
      "Data columns (total 18 columns):\n",
      "year                    911 non-null int64\n",
      "category                911 non-null object\n",
      "prize                   911 non-null object\n",
      "motivation              823 non-null object\n",
      "prize_share             911 non-null object\n",
      "laureate_id             911 non-null int64\n",
      "laureate_type           911 non-null object\n",
      "full_name               911 non-null object\n",
      "birth_date              883 non-null object\n",
      "birth_city              883 non-null object\n",
      "birth_country           885 non-null object\n",
      "sex                     885 non-null object\n",
      "organization_name       665 non-null object\n",
      "organization_city       667 non-null object\n",
      "organization_country    667 non-null object\n",
      "death_date              593 non-null object\n",
      "death_city              576 non-null object\n",
      "death_country           582 non-null object\n",
      "dtypes: int64(2), object(16)\n",
      "memory usage: 128.2+ KB\n",
      "None\n"
     ]
    },
    {
     "data": {
      "text/html": [
       "<div>\n",
       "<style scoped>\n",
       "    .dataframe tbody tr th:only-of-type {\n",
       "        vertical-align: middle;\n",
       "    }\n",
       "\n",
       "    .dataframe tbody tr th {\n",
       "        vertical-align: top;\n",
       "    }\n",
       "\n",
       "    .dataframe thead th {\n",
       "        text-align: right;\n",
       "    }\n",
       "</style>\n",
       "<table border=\"1\" class=\"dataframe\">\n",
       "  <thead>\n",
       "    <tr style=\"text-align: right;\">\n",
       "      <th></th>\n",
       "      <th>year</th>\n",
       "      <th>category</th>\n",
       "      <th>prize</th>\n",
       "      <th>motivation</th>\n",
       "      <th>prize_share</th>\n",
       "      <th>laureate_id</th>\n",
       "      <th>laureate_type</th>\n",
       "      <th>full_name</th>\n",
       "      <th>birth_date</th>\n",
       "      <th>birth_city</th>\n",
       "      <th>birth_country</th>\n",
       "      <th>sex</th>\n",
       "      <th>organization_name</th>\n",
       "      <th>organization_city</th>\n",
       "      <th>organization_country</th>\n",
       "      <th>death_date</th>\n",
       "      <th>death_city</th>\n",
       "      <th>death_country</th>\n",
       "    </tr>\n",
       "  </thead>\n",
       "  <tbody>\n",
       "    <tr>\n",
       "      <td>0</td>\n",
       "      <td>1901</td>\n",
       "      <td>Chemistry</td>\n",
       "      <td>The Nobel Prize in Chemistry 1901</td>\n",
       "      <td>\"in recognition of the extraordinary services ...</td>\n",
       "      <td>1/1</td>\n",
       "      <td>160</td>\n",
       "      <td>Individual</td>\n",
       "      <td>Jacobus Henricus van 't Hoff</td>\n",
       "      <td>1852-08-30</td>\n",
       "      <td>Rotterdam</td>\n",
       "      <td>Netherlands</td>\n",
       "      <td>Male</td>\n",
       "      <td>Berlin University</td>\n",
       "      <td>Berlin</td>\n",
       "      <td>Germany</td>\n",
       "      <td>1911-03-01</td>\n",
       "      <td>Berlin</td>\n",
       "      <td>Germany</td>\n",
       "    </tr>\n",
       "    <tr>\n",
       "      <td>1</td>\n",
       "      <td>1901</td>\n",
       "      <td>Literature</td>\n",
       "      <td>The Nobel Prize in Literature 1901</td>\n",
       "      <td>\"in special recognition of his poetic composit...</td>\n",
       "      <td>1/1</td>\n",
       "      <td>569</td>\n",
       "      <td>Individual</td>\n",
       "      <td>Sully Prudhomme</td>\n",
       "      <td>1839-03-16</td>\n",
       "      <td>Paris</td>\n",
       "      <td>France</td>\n",
       "      <td>Male</td>\n",
       "      <td>NaN</td>\n",
       "      <td>NaN</td>\n",
       "      <td>NaN</td>\n",
       "      <td>1907-09-07</td>\n",
       "      <td>Châtenay</td>\n",
       "      <td>France</td>\n",
       "    </tr>\n",
       "    <tr>\n",
       "      <td>2</td>\n",
       "      <td>1901</td>\n",
       "      <td>Medicine</td>\n",
       "      <td>The Nobel Prize in Physiology or Medicine 1901</td>\n",
       "      <td>\"for his work on serum therapy, especially its...</td>\n",
       "      <td>1/1</td>\n",
       "      <td>293</td>\n",
       "      <td>Individual</td>\n",
       "      <td>Emil Adolf von Behring</td>\n",
       "      <td>1854-03-15</td>\n",
       "      <td>Hansdorf (Lawice)</td>\n",
       "      <td>Prussia (Poland)</td>\n",
       "      <td>Male</td>\n",
       "      <td>Marburg University</td>\n",
       "      <td>Marburg</td>\n",
       "      <td>Germany</td>\n",
       "      <td>1917-03-31</td>\n",
       "      <td>Marburg</td>\n",
       "      <td>Germany</td>\n",
       "    </tr>\n",
       "    <tr>\n",
       "      <td>3</td>\n",
       "      <td>1901</td>\n",
       "      <td>Peace</td>\n",
       "      <td>The Nobel Peace Prize 1901</td>\n",
       "      <td>NaN</td>\n",
       "      <td>1/2</td>\n",
       "      <td>462</td>\n",
       "      <td>Individual</td>\n",
       "      <td>Jean Henry Dunant</td>\n",
       "      <td>1828-05-08</td>\n",
       "      <td>Geneva</td>\n",
       "      <td>Switzerland</td>\n",
       "      <td>Male</td>\n",
       "      <td>NaN</td>\n",
       "      <td>NaN</td>\n",
       "      <td>NaN</td>\n",
       "      <td>1910-10-30</td>\n",
       "      <td>Heiden</td>\n",
       "      <td>Switzerland</td>\n",
       "    </tr>\n",
       "    <tr>\n",
       "      <td>4</td>\n",
       "      <td>1901</td>\n",
       "      <td>Peace</td>\n",
       "      <td>The Nobel Peace Prize 1901</td>\n",
       "      <td>NaN</td>\n",
       "      <td>1/2</td>\n",
       "      <td>463</td>\n",
       "      <td>Individual</td>\n",
       "      <td>Frédéric Passy</td>\n",
       "      <td>1822-05-20</td>\n",
       "      <td>Paris</td>\n",
       "      <td>France</td>\n",
       "      <td>Male</td>\n",
       "      <td>NaN</td>\n",
       "      <td>NaN</td>\n",
       "      <td>NaN</td>\n",
       "      <td>1912-06-12</td>\n",
       "      <td>Paris</td>\n",
       "      <td>France</td>\n",
       "    </tr>\n",
       "    <tr>\n",
       "      <td>...</td>\n",
       "      <td>...</td>\n",
       "      <td>...</td>\n",
       "      <td>...</td>\n",
       "      <td>...</td>\n",
       "      <td>...</td>\n",
       "      <td>...</td>\n",
       "      <td>...</td>\n",
       "      <td>...</td>\n",
       "      <td>...</td>\n",
       "      <td>...</td>\n",
       "      <td>...</td>\n",
       "      <td>...</td>\n",
       "      <td>...</td>\n",
       "      <td>...</td>\n",
       "      <td>...</td>\n",
       "      <td>...</td>\n",
       "      <td>...</td>\n",
       "      <td>...</td>\n",
       "    </tr>\n",
       "    <tr>\n",
       "      <td>95</td>\n",
       "      <td>1919</td>\n",
       "      <td>Peace</td>\n",
       "      <td>The Nobel Peace Prize 1919</td>\n",
       "      <td>NaN</td>\n",
       "      <td>1/1</td>\n",
       "      <td>483</td>\n",
       "      <td>Individual</td>\n",
       "      <td>Thomas Woodrow Wilson</td>\n",
       "      <td>1856-12-28</td>\n",
       "      <td>Staunton, VA</td>\n",
       "      <td>United States of America</td>\n",
       "      <td>Male</td>\n",
       "      <td>NaN</td>\n",
       "      <td>NaN</td>\n",
       "      <td>NaN</td>\n",
       "      <td>1924-02-03</td>\n",
       "      <td>Washington, DC</td>\n",
       "      <td>United States of America</td>\n",
       "    </tr>\n",
       "    <tr>\n",
       "      <td>96</td>\n",
       "      <td>1919</td>\n",
       "      <td>Physics</td>\n",
       "      <td>The Nobel Prize in Physics 1919</td>\n",
       "      <td>\"for his discovery of the Doppler effect in ca...</td>\n",
       "      <td>1/1</td>\n",
       "      <td>24</td>\n",
       "      <td>Individual</td>\n",
       "      <td>Johannes Stark</td>\n",
       "      <td>1874-04-15</td>\n",
       "      <td>Schickenhof</td>\n",
       "      <td>Germany</td>\n",
       "      <td>Male</td>\n",
       "      <td>Greifswald University</td>\n",
       "      <td>Greifswald</td>\n",
       "      <td>Germany</td>\n",
       "      <td>1957-06-21</td>\n",
       "      <td>Traunstein</td>\n",
       "      <td>West Germany (Germany)</td>\n",
       "    </tr>\n",
       "    <tr>\n",
       "      <td>97</td>\n",
       "      <td>1920</td>\n",
       "      <td>Chemistry</td>\n",
       "      <td>The Nobel Prize in Chemistry 1920</td>\n",
       "      <td>\"in recognition of his work in thermochemistry\"</td>\n",
       "      <td>1/1</td>\n",
       "      <td>178</td>\n",
       "      <td>Individual</td>\n",
       "      <td>Walther Hermann Nernst</td>\n",
       "      <td>1864-06-25</td>\n",
       "      <td>Briesen</td>\n",
       "      <td>Prussia (Germany)</td>\n",
       "      <td>Male</td>\n",
       "      <td>Berlin University</td>\n",
       "      <td>Berlin</td>\n",
       "      <td>Germany</td>\n",
       "      <td>1941-11-18</td>\n",
       "      <td>Muskau</td>\n",
       "      <td>Germany</td>\n",
       "    </tr>\n",
       "    <tr>\n",
       "      <td>98</td>\n",
       "      <td>1920</td>\n",
       "      <td>Literature</td>\n",
       "      <td>The Nobel Prize in Literature 1920</td>\n",
       "      <td>\"for his monumental work, &lt;I&gt;Growth of the Soi...</td>\n",
       "      <td>1/1</td>\n",
       "      <td>589</td>\n",
       "      <td>Individual</td>\n",
       "      <td>Knut Pedersen Hamsun</td>\n",
       "      <td>1859-08-04</td>\n",
       "      <td>Lom</td>\n",
       "      <td>Norway</td>\n",
       "      <td>Male</td>\n",
       "      <td>NaN</td>\n",
       "      <td>NaN</td>\n",
       "      <td>NaN</td>\n",
       "      <td>1952-02-19</td>\n",
       "      <td>Grimstad</td>\n",
       "      <td>Norway</td>\n",
       "    </tr>\n",
       "    <tr>\n",
       "      <td>99</td>\n",
       "      <td>1920</td>\n",
       "      <td>Medicine</td>\n",
       "      <td>The Nobel Prize in Physiology or Medicine 1920</td>\n",
       "      <td>\"for his discovery of the capillary motor regu...</td>\n",
       "      <td>1/1</td>\n",
       "      <td>310</td>\n",
       "      <td>Individual</td>\n",
       "      <td>Schack August Steenberg Krogh</td>\n",
       "      <td>1874-11-15</td>\n",
       "      <td>Grenå</td>\n",
       "      <td>Denmark</td>\n",
       "      <td>Male</td>\n",
       "      <td>Copenhagen University</td>\n",
       "      <td>Copenhagen</td>\n",
       "      <td>Denmark</td>\n",
       "      <td>1949-09-13</td>\n",
       "      <td>Copenhagen</td>\n",
       "      <td>Denmark</td>\n",
       "    </tr>\n",
       "  </tbody>\n",
       "</table>\n",
       "<p>100 rows × 18 columns</p>\n",
       "</div>"
      ],
      "text/plain": [
       "    year    category                                           prize  \\\n",
       "0   1901   Chemistry               The Nobel Prize in Chemistry 1901   \n",
       "1   1901  Literature              The Nobel Prize in Literature 1901   \n",
       "2   1901    Medicine  The Nobel Prize in Physiology or Medicine 1901   \n",
       "3   1901       Peace                      The Nobel Peace Prize 1901   \n",
       "4   1901       Peace                      The Nobel Peace Prize 1901   \n",
       "..   ...         ...                                             ...   \n",
       "95  1919       Peace                      The Nobel Peace Prize 1919   \n",
       "96  1919     Physics                 The Nobel Prize in Physics 1919   \n",
       "97  1920   Chemistry               The Nobel Prize in Chemistry 1920   \n",
       "98  1920  Literature              The Nobel Prize in Literature 1920   \n",
       "99  1920    Medicine  The Nobel Prize in Physiology or Medicine 1920   \n",
       "\n",
       "                                           motivation prize_share  \\\n",
       "0   \"in recognition of the extraordinary services ...         1/1   \n",
       "1   \"in special recognition of his poetic composit...         1/1   \n",
       "2   \"for his work on serum therapy, especially its...         1/1   \n",
       "3                                                 NaN         1/2   \n",
       "4                                                 NaN         1/2   \n",
       "..                                                ...         ...   \n",
       "95                                                NaN         1/1   \n",
       "96  \"for his discovery of the Doppler effect in ca...         1/1   \n",
       "97    \"in recognition of his work in thermochemistry\"         1/1   \n",
       "98  \"for his monumental work, <I>Growth of the Soi...         1/1   \n",
       "99  \"for his discovery of the capillary motor regu...         1/1   \n",
       "\n",
       "    laureate_id laureate_type                      full_name  birth_date  \\\n",
       "0           160    Individual   Jacobus Henricus van 't Hoff  1852-08-30   \n",
       "1           569    Individual                Sully Prudhomme  1839-03-16   \n",
       "2           293    Individual         Emil Adolf von Behring  1854-03-15   \n",
       "3           462    Individual              Jean Henry Dunant  1828-05-08   \n",
       "4           463    Individual                 Frédéric Passy  1822-05-20   \n",
       "..          ...           ...                            ...         ...   \n",
       "95          483    Individual          Thomas Woodrow Wilson  1856-12-28   \n",
       "96           24    Individual                 Johannes Stark  1874-04-15   \n",
       "97          178    Individual         Walther Hermann Nernst  1864-06-25   \n",
       "98          589    Individual           Knut Pedersen Hamsun  1859-08-04   \n",
       "99          310    Individual  Schack August Steenberg Krogh  1874-11-15   \n",
       "\n",
       "           birth_city             birth_country   sex      organization_name  \\\n",
       "0           Rotterdam               Netherlands  Male      Berlin University   \n",
       "1               Paris                    France  Male                    NaN   \n",
       "2   Hansdorf (Lawice)          Prussia (Poland)  Male     Marburg University   \n",
       "3              Geneva               Switzerland  Male                    NaN   \n",
       "4               Paris                    France  Male                    NaN   \n",
       "..                ...                       ...   ...                    ...   \n",
       "95       Staunton, VA  United States of America  Male                    NaN   \n",
       "96        Schickenhof                   Germany  Male  Greifswald University   \n",
       "97            Briesen         Prussia (Germany)  Male      Berlin University   \n",
       "98                Lom                    Norway  Male                    NaN   \n",
       "99              Grenå                   Denmark  Male  Copenhagen University   \n",
       "\n",
       "   organization_city organization_country  death_date      death_city  \\\n",
       "0             Berlin              Germany  1911-03-01          Berlin   \n",
       "1                NaN                  NaN  1907-09-07        Châtenay   \n",
       "2            Marburg              Germany  1917-03-31         Marburg   \n",
       "3                NaN                  NaN  1910-10-30          Heiden   \n",
       "4                NaN                  NaN  1912-06-12           Paris   \n",
       "..               ...                  ...         ...             ...   \n",
       "95               NaN                  NaN  1924-02-03  Washington, DC   \n",
       "96        Greifswald              Germany  1957-06-21      Traunstein   \n",
       "97            Berlin              Germany  1941-11-18          Muskau   \n",
       "98               NaN                  NaN  1952-02-19        Grimstad   \n",
       "99        Copenhagen              Denmark  1949-09-13      Copenhagen   \n",
       "\n",
       "               death_country  \n",
       "0                    Germany  \n",
       "1                     France  \n",
       "2                    Germany  \n",
       "3                Switzerland  \n",
       "4                     France  \n",
       "..                       ...  \n",
       "95  United States of America  \n",
       "96    West Germany (Germany)  \n",
       "97                   Germany  \n",
       "98                    Norway  \n",
       "99                   Denmark  \n",
       "\n",
       "[100 rows x 18 columns]"
      ]
     },
     "execution_count": 1,
     "metadata": {},
     "output_type": "execute_result"
    }
   ],
   "source": [
    "# Loading in required libraries: you will need pandas, seaborn and numpy\n",
    "# ... YOUR CODE FOR TASK 1 ...\n",
    "import numpy as np\n",
    "import pandas as pd\n",
    "import seaborn as sns\n",
    "from matplotlib import pyplot as plt\n",
    "\n",
    "\n",
    "# Reading in the Nobel Prize data\n",
    "nobel = pd.read_csv(\"nobel.csv\")\n",
    "nobel = pd.DataFrame(data=nobel)\n",
    "print(\"--------\")\n",
    "# Explore the data - are there missing values? How many entries do we have?\n",
    "# ... YOUR CODE FOR TASK 1 ...\n",
    "print(nobel.info())\n",
    "nobel.head(100)\n",
    "\n",
    "\n"
   ]
  },
  {
   "cell_type": "markdown",
   "metadata": {},
   "source": [
    "# What is this?\n",
    "\n",
    "#### what we can see from the info of this data frame is that not all the columns in the data are complete/filled in on closer inspection we see that in columns like organization counrty where the data is not entered it will be the same for organizational country, it is good to have this in mind as we continue to probe the dataframe presented. \n",
    "#### the total number of prizes awarded since the inception of the 1901 Nobel Prize till 2016 is 911 awards between the catagories  chemistry, literature, physics, physiology or medicine, economics, and peace, "
   ]
  },
  {
   "cell_type": "markdown",
   "metadata": {
    "colab_type": "text",
    "id": "8iWouA3lLgXy"
   },
   "source": [
    "## 2. So, who gets the Nobel Prize?\n",
    "<p>Just looking at the first couple of prize winners, or Nobel laureates as they are also called, we already see a celebrity: Wilhelm Conrad Röntgen, the guy who discovered X-rays. And actually, we see that all of the winners in 1901 were guys that came from Europe. But that was back in 1901, looking at all winners in the dataset, from 1901 to 2016, which sex and which country is the most commonly represented? </p>\n",
    "<p>(For <em>country</em>, we will use the <code>birth_country</code> of the winner, as the <code>organization_country</code> is <code>NaN</code> for all shared Nobel Prizes.)</p>"
   ]
  },
  {
   "cell_type": "code",
   "execution_count": 70,
   "metadata": {
    "colab": {},
    "colab_type": "code",
    "id": "mAPuUU4OLgXz"
   },
   "outputs": [
    {
     "name": "stdout",
     "output_type": "stream",
     "text": [
      "Nobel prizes shared: 567\n",
      "--------\n",
      "Prizes won by males: 836\n",
      "Prizes won by females: 49\n",
      "--------\n",
      "United States of America    259\n",
      "United Kingdom               85\n",
      "Germany                      61\n",
      "France                       51\n",
      "Sweden                       29\n",
      "Japan                        24\n",
      "Netherlands                  18\n",
      "Canada                       18\n",
      "Italy                        17\n",
      "Russia                       17\n",
      "Name: birth_country, dtype: int64\n",
      "--------\n"
     ]
    }
   ],
   "source": [
    "# Display the number of (possibly shared) Nobel Prizes handed\n",
    "# out between 1901 and 2016\n",
    "# ... YOUR CODE FOR TASK 2 ...\n",
    "sharedPrizes = nobel[nobel.prize_share != '1/1']\n",
    "#print(sharedPrizes)\n",
    "print(\"Nobel prizes shared: \"+ str(sharedPrizes.__len__()))\n",
    "print(\"--------\")\n",
    "\n",
    "# Display the number of prizes won by male and female recipients.\n",
    "# ... YOUR CODE FOR TASK 2 ...\n",
    "male = nobel[nobel.sex == \"Male\"]\n",
    "print (\"Prizes won by males: \"+str(male.__len__()))\n",
    "\n",
    "female = nobel[nobel.sex == \"Female\"]\n",
    "print (\"Prizes won by females: \"+str(female.__len__()))\n",
    "print(\"--------\")\n",
    "# Display the number of prizes won by the top 10 nationalities.\n",
    "# ... YOUR CODE FOR TASK 2 ...\n",
    "Countries = nobel.birth_country\n",
    "sortcount = Countries.value_counts()\n",
    "print(sortcount[:10])\n",
    "\n",
    "print(\"--------\")\n",
    "\n"
   ]
  },
  {
   "cell_type": "markdown",
   "metadata": {},
   "source": [
    "# Can We Share?\n",
    "#### From the data we can take a look into how many shared prizes and of those shared prizes how many have been between the different sexes. \n",
    "#### The total shared prizes is 567\n",
    "#### The number of prizes won by females is the various catagories is 46 from 1901-2016 this shows us that there is a lack of representation for females in the world\n",
    "#### The number of prizes for males is 836 clearly indicating the dominance of males in the sciences \n",
    "#### we can again see that America has the most amount of prizes by a staggering 259 awards since the beginning of the awards followed followed by United Kingdom at 85; Germany 3rd with 61 awards; France 4th with 51 awards; Sweden 5th with 29 awards; Japan 6th with 24 awards; Netherlands and Canada with 18 awards each; and Italy and Russia with 17 awards each. These are the top award winning countries in the world "
   ]
  },
  {
   "cell_type": "markdown",
   "metadata": {
    "colab_type": "text",
    "id": "HTA6zz6ILgX1"
   },
   "source": [
    "Which countries win most often?"
   ]
  },
  {
   "cell_type": "markdown",
   "metadata": {
    "colab_type": "text",
    "id": "plyn3XAXLgX2"
   },
   "source": [
    "## 3. USA dominance\n",
    "<p>Not so surprising perhaps: the most common Nobel laureate between 1901 and 2016 was a man born in the United States of America. But in 1901 all the winners were European. When did the USA start to dominate the Nobel Prize charts?</p>\n",
    "    "
   ]
  },
  {
   "cell_type": "code",
   "execution_count": 75,
   "metadata": {
    "colab": {},
    "colab_type": "code",
    "id": "pyr8QN8ELgX2"
   },
   "outputs": [
    {
     "name": "stdout",
     "output_type": "stream",
     "text": [
      "usa_born_winners  Non-USA  usa_born_winners  All  porportion\n",
      "decade                                                      \n",
      "1910                   61                 1   62    1.612903\n",
      "1920                   37                 3   40    7.500000\n",
      "1930                   49                 5   54    9.259259\n",
      "1940                   38                13   51   25.490196\n",
      "1950                   35                16   51   31.372549\n",
      "1960                   50                20   70   28.571429\n",
      "1970                   60                22   82   26.829268\n",
      "1980                   70                36  106   33.962264\n",
      "1990                   64                33   97   34.020619\n",
      "2000                   67                39  106   36.792453\n",
      "2010                   71                50  121   41.322314\n",
      "2020                   50                21   71   29.577465\n",
      "All                   652               259  911   28.430296\n"
     ]
    }
   ],
   "source": [
    "# Calculating the proportion of USA born winners per decade\n",
    "nobel['usa_born_winners'] = nobel.birth_country == 'United States of America'\n",
    "#print(nobel.info())\n",
    "nobel['decade'] = (((nobel.year/10).apply(np.ceil))*10).astype(int)\n",
    "#prop_usa_winners = ...\n",
    "results = pd.crosstab(index=nobel['decade'], columns=nobel['usa_born_winners'], margins=True)\n",
    "results = results.rename(columns = {True:\"usa_born_winners\",False:\"Non-USA\"})\n",
    "results['porportion'] = results['usa_born_winners']/results['All'] * 100\n",
    "# Display the proportions of USA born winners per decade\n",
    "# ... YOUR CODE FOR TASK 3 ...\n",
    "print(results)\n",
    "#print(results.info())"
   ]
  },
  {
   "cell_type": "markdown",
   "metadata": {},
   "source": [
    "# How did the USA dominate\n",
    "\n",
    "#### Above is table that shows how the USA came to dominate the awards it shows how America has increased in the number of awards recieved compared with the rest of the awardiees in the dataframe"
   ]
  },
  {
   "cell_type": "markdown",
   "metadata": {
    "colab_type": "text",
    "id": "qJWECeNSLgX8"
   },
   "source": [
    "## 4. USA dominance, visualized\n",
    "<p>A table is OK, but to <em>see</em> when the USA started to dominate the Nobel charts we need a plot!</p>"
   ]
  },
  {
   "cell_type": "code",
   "execution_count": 89,
   "metadata": {
    "colab": {},
    "colab_type": "code",
    "id": "BG1IzfHULgX9"
   },
   "outputs": [
    {
     "data": {
      "text/plain": [
       "<matplotlib.axes._subplots.AxesSubplot at 0x26432f73c88>"
      ]
     },
     "execution_count": 89,
     "metadata": {},
     "output_type": "execute_result"
    },
    {
     "data": {
      "image/png": "[encoded data removed]",
      "text/plain": [
       "<Figure size 432x288 with 1 Axes>"
      ]
     },
     "metadata": {},
     "output_type": "display_data"
    }
   ],
   "source": [
    "#using seaborn, plot the proportion of US winners by decade\n",
    "seebee = nobel.groupby(['decade']).mean()\n",
    "#print(type(seebee))\n",
    "#print(seebee.info())\n",
    "sns.set_style('darkgrid')\n",
    "sns.lineplot(x='year', y='usa_born_winners', data=seebee)\n"
   ]
  },
  {
   "cell_type": "markdown",
   "metadata": {},
   "source": [
    "# Visualization of USA success\n",
    "\n",
    "#### The graph above shows how the success of the USA compared to other countries increased over the last century and stared to decease in the beginning of the 21st"
   ]
  },
  {
   "cell_type": "markdown",
   "metadata": {
    "colab_type": "text",
    "id": "K0yrBrqzLgX_"
   },
   "source": [
    "What can you conclude from the graph?"
   ]
  },
  {
   "cell_type": "markdown",
   "metadata": {
    "colab_type": "text",
    "id": "lNmRYEqLLgYA"
   },
   "source": [
    "## 5. What is the gender of a typical Nobel Prize winner?\n",
    "<p>So the USA became the dominating winner of the Nobel Prize first in the 1930s and had kept the leading position ever since. But one group that was in the lead from the start, and never seems to let go, are <em>men</em>. Maybe it shouldn't come as a shock that there is some imbalance between how many male and female prize winners there are, but how significant is this imbalance? And is it better or worse within specific prize categories like physics, medicine, literature, etc.?</p>"
   ]
  },
  {
   "cell_type": "code",
   "execution_count": 94,
   "metadata": {
    "colab": {},
    "colab_type": "code",
    "id": "Os3hu3BGLgYB"
   },
   "outputs": [
    {
     "data": {
      "image/png": "[encoded data removed]",
      "text/plain": [
       "<Figure size 432x288 with 1 Axes>"
      ]
     },
     "metadata": {},
     "output_type": "display_data"
    }
   ],
   "source": [
    "# Calculating the proportion of female laureates per decade\n",
    "nobel['female_winner'] = nobel.sex == 'Female'\n",
    "prop_female_winners = nobel.groupby(['decade', 'category'], as_index=False)['female_winner'].mean()\n",
    "\n",
    "# Plot proportion of female winners by decade, grouped by prize category (physics, medicine, etc)\n",
    "# ... YOUR CODE FOR TASK 5 ...\n",
    "ax = sns.lineplot(x='decade', y='female_winner', data=prop_female_winners)"
   ]
  },
  {
   "cell_type": "markdown",
   "metadata": {},
   "source": [
    "# We "
   ]
  },
  {
   "cell_type": "markdown",
   "metadata": {
    "colab_type": "text",
    "id": "bECCDRHOLgYF"
   },
   "source": [
    "## 6. The first woman to win the Nobel Prize\n",
    "<p>The plot above is a bit messy as the lines are overplotting. But it does show some interesting trends and patterns. Overall the imbalance is pretty large with physics, economics, and chemistry having the largest imbalance. Medicine has a somewhat positive trend, and since the 1990s the literature prize is also now more balanced. The big outlier is the peace prize during the 2010s, but keep in mind that this just covers the years 2010 to 2016.</p>\n",
    "<p>Given this imbalance, who was the first woman to receive a Nobel Prize? And in what category?</p>\n"
   ]
  },
  {
   "cell_type": "code",
   "execution_count": 96,
   "metadata": {
    "colab": {},
    "colab_type": "code",
    "id": "fr17tW7kLgYG"
   },
   "outputs": [
    {
     "ename": "NameError",
     "evalue": "name 'nobol' is not defined",
     "output_type": "error",
     "traceback": [
      "\u001b[1;31m---------------------------------------------------------------------------\u001b[0m",
      "\u001b[1;31mNameError\u001b[0m                                 Traceback (most recent call last)",
      "\u001b[1;32m<ipython-input-96-a149964dfd76>\u001b[0m in \u001b[0;36m<module>\u001b[1;34m\u001b[0m\n\u001b[0;32m      1\u001b[0m \u001b[1;31m# Picking out the first woman to win a Nobel Prize\u001b[0m\u001b[1;33m\u001b[0m\u001b[1;33m\u001b[0m\u001b[1;33m\u001b[0m\u001b[0m\n\u001b[0;32m      2\u001b[0m \u001b[1;31m# ... YOUR CODE FOR TASK 6 ...\u001b[0m\u001b[1;33m\u001b[0m\u001b[1;33m\u001b[0m\u001b[1;33m\u001b[0m\u001b[0m\n\u001b[1;32m----> 3\u001b[1;33m \u001b[0mnobol\u001b[0m\u001b[1;33m.\u001b[0m\u001b[0mhead\u001b[0m \u001b[1;33m(\u001b[0m\u001b[0mn\u001b[0m\u001b[1;33m=\u001b[0m\u001b[1;36m20\u001b[0m\u001b[1;33m)\u001b[0m\u001b[1;33m\u001b[0m\u001b[1;33m\u001b[0m\u001b[0m\n\u001b[0m\u001b[0;32m      4\u001b[0m \u001b[0mfirst_female\u001b[0m \u001b[1;33m=\u001b[0m \u001b[0mnobel\u001b[0m\u001b[1;33m[\u001b[0m\u001b[0mnobel\u001b[0m\u001b[1;33m[\u001b[0m\u001b[1;34m\"sex\"\u001b[0m\u001b[1;33m]\u001b[0m \u001b[1;33m==\u001b[0m \u001b[1;34m'Female'\u001b[0m\u001b[1;33m]\u001b[0m\u001b[1;33m\u001b[0m\u001b[1;33m\u001b[0m\u001b[0m\n\u001b[0;32m      5\u001b[0m \u001b[0mfirst_female\u001b[0m\u001b[1;33m.\u001b[0m\u001b[0mnsmallest\u001b[0m\u001b[1;33m(\u001b[0m\u001b[1;36m1\u001b[0m\u001b[1;33m,\u001b[0m \u001b[0myear\u001b[0m\u001b[1;33m)\u001b[0m\u001b[1;33m\u001b[0m\u001b[1;33m\u001b[0m\u001b[0m\n",
      "\u001b[1;31mNameError\u001b[0m: name 'nobol' is not defined"
     ]
    }
   ],
   "source": [
    "# Picking out the first woman to win a Nobel Prize\n",
    "# ... YOUR CODE FOR TASK 6 ...\n",
    "nobol.head (n=20) \n",
    "first_female = nobel[nobel[\"sex\"] == 'Female']\n",
    "first_female.nsmallest(1, year)"
   ]
  },
  {
   "cell_type": "markdown",
   "metadata": {
    "colab_type": "text",
    "id": "HnHekZkQLgYJ"
   },
   "source": [
    "## 7. Repeat laureates\n",
    "<p>For most scientists/writers/activists a Nobel Prize would be the crowning achievement of a long career. But for some people, one is just not enough, and few have gotten it more than once. Who are these lucky few? (Having won no Nobel Prize myself, I'll assume it's just about luck.)</p>"
   ]
  },
  {
   "cell_type": "code",
   "execution_count": 0,
   "metadata": {
    "colab": {},
    "colab_type": "code",
    "id": "0unfnOb7LgYM"
   },
   "outputs": [],
   "source": [
    "# Selecting the laureates that have received 2 or more prizes.\n",
    "# ... YOUR CODE FOR TASK 7 ..."
   ]
  },
  {
   "cell_type": "markdown",
   "metadata": {
    "colab_type": "text",
    "id": "Q_o5qBesLgYT"
   },
   "source": [
    "\n",
    "\n",
    "\n",
    "How many people have received 2 or more prizes?"
   ]
  },
  {
   "cell_type": "markdown",
   "metadata": {
    "colab_type": "text",
    "id": "LQ3gth_3LgYT"
   },
   "source": [
    "## 8. How old are you when you get the prize?\n",
    "<p>The list of repeat winners contains some illustrious names! We again meet Marie Curie, who got the prize in physics for discovering radiation and in chemistry for isolating radium and polonium. John Bardeen got it twice in physics for transistors and superconductivity, Frederick Sanger got it twice in chemistry, and Linus Carl Pauling got it first in chemistry and later in peace for his work in promoting nuclear disarmament. We also learn that organizations also get the prize as both the Red Cross and the UNHCR have gotten it twice.</p>\n",
    "<p>But how old are you generally when you get the prize?</p>"
   ]
  },
  {
   "cell_type": "code",
   "execution_count": 0,
   "metadata": {
    "colab": {},
    "colab_type": "code",
    "id": "kahpyBNzLgYU"
   },
   "outputs": [],
   "source": [
    "# Converting birth_date from String to datetime\n",
    "nobel['birth_date'] = ...\n",
    "\n",
    "# Calculating the age of Nobel Prize winners\n",
    "nobel['age'] = ...\n",
    "\n",
    "# What is the mean age of winners and it's standard devation? What is the median age?"
   ]
  },
  {
   "cell_type": "markdown",
   "metadata": {
    "colab_type": "text",
    "id": "JRO7eu1jLgYX"
   },
   "source": [
    "## 9. Age differences between prize categories\n"
   ]
  },
  {
   "cell_type": "code",
   "execution_count": 0,
   "metadata": {
    "colab": {},
    "colab_type": "code",
    "id": "X7X2waCALgYY"
   },
   "outputs": [],
   "source": [
    "#Plot the age of nobel candidates by decade\n",
    "#YOUR CODE FOR TASK 9 ...\n",
    "\n",
    "# Plot the age of nobel candidates by decade and prize category"
   ]
  },
  {
   "cell_type": "markdown",
   "metadata": {
    "colab_type": "text",
    "id": "CmDtQ5msLgYd"
   },
   "source": [
    "What can you conclude about the age at which people win different types of Nobel Prizes?"
   ]
  },
  {
   "cell_type": "markdown",
   "metadata": {
    "colab_type": "text",
    "id": "JT1wmBWRLgYf"
   },
   "source": [
    "## 10. Oldest and youngest winners\n",
    "<p>In the peace category there is a winner around 2010 that seems exceptionally young. This begs the questions, who are the oldest and youngest people ever to have won a Nobel Prize?</p>"
   ]
  },
  {
   "cell_type": "markdown",
   "metadata": {
    "colab_type": "text",
    "id": "6BStEi3JLgYg"
   },
   "source": [
    "## Congratulations! You've reached the end of the challenge!"
   ]
  }
 ],
 "metadata": {
  "colab": {
   "name": "nobelprizewinners.ipynb",
   "provenance": [],
   "version": "0.3.2"
  },
  "kernelspec": {
   "display_name": "Python 3",
   "language": "python",
   "name": "python3"
  },
  "language_info": {
   "codemirror_mode": {
    "name": "ipython",
    "version": 3
   },
   "file_extension": ".py",
   "mimetype": "text/x-python",
   "name": "python",
   "nbconvert_exporter": "python",
   "pygments_lexer": "ipython3",
   "version": "3.7.4"
  }
 },
 "nbformat": 4,
 "nbformat_minor": 1
}
